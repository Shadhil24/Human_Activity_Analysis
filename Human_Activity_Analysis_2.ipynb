{
  "nbformat": 4,
  "nbformat_minor": 0,
  "metadata": {
    "colab": {
      "name": "Human Activity Analysis 2.ipynb",
      "provenance": []
    },
    "kernelspec": {
      "name": "python3",
      "display_name": "Python 3"
    },
    "accelerator": "GPU"
  },
  "cells": [
    {
      "cell_type": "code",
      "metadata": {
        "id": "dtWlNU5cfmxq"
      },
      "source": [
        "from google.colab import drive"
      ],
      "execution_count": 1,
      "outputs": []
    },
    {
      "cell_type": "code",
      "metadata": {
        "id": "BItq49Vpf1ZC",
        "colab": {
          "base_uri": "https://localhost:8080/"
        },
        "outputId": "94e48b65-8d9f-4b2b-8968-23a66e0b476a"
      },
      "source": [
        "drive.mount('/content/drive')"
      ],
      "execution_count": 2,
      "outputs": [
        {
          "output_type": "stream",
          "name": "stdout",
          "text": [
            "Mounted at /content/drive\n"
          ]
        }
      ]
    },
    {
      "cell_type": "code",
      "metadata": {
        "id": "XcOilA14gJUB"
      },
      "source": [
        "import tensorflow\n",
        "from tensorflow.keras import Sequential\n",
        "from tensorflow.keras.layers import LSTM,Dense,Dropout\n",
        "import pandas as pd\n",
        "import numpy as np\n",
        "import matplotlib.pyplot as plt\n"
      ],
      "execution_count": 3,
      "outputs": []
    },
    {
      "cell_type": "code",
      "metadata": {
        "id": "HYKgB8qZKU10"
      },
      "source": [
        "import joblib\n",
        "import pickle"
      ],
      "execution_count": 4,
      "outputs": []
    },
    {
      "cell_type": "code",
      "metadata": {
        "id": "agIQHictgYmN"
      },
      "source": [
        "\n",
        "\n",
        "columns=['User','Activity','Time Stamp','x-axis','y-axis','z-axis']\n",
        "df=pd.read_csv('/content/drive/My Drive/WISDM_ar_v1.1_raw.txt',header=None,names=columns)\n",
        "df['z-axis']=df['z-axis'].replace(';','',regex=True)\n",
        "df['z-axis']=df['z-axis'].astype(float)"
      ],
      "execution_count": null,
      "outputs": []
    },
    {
      "cell_type": "code",
      "metadata": {
        "id": "esCJ2-jhzowU"
      },
      "source": [
        "df=df.dropna()"
      ],
      "execution_count": null,
      "outputs": []
    },
    {
      "cell_type": "code",
      "metadata": {
        "id": "cSoXIEp41Kpo",
        "colab": {
          "base_uri": "https://localhost:8080/",
          "height": 36
        },
        "outputId": "54795dc8-dfc0-44ed-b567-885ad0b0f4fb"
      },
      "source": [
        "df.shape"
      ],
      "execution_count": null,
      "outputs": [
        {
          "output_type": "execute_result",
          "data": {
            "text/plain": [
              "(1098203, 6)"
            ]
          },
          "metadata": {
            "tags": []
          },
          "execution_count": 7
        }
      ]
    },
    {
      "cell_type": "code",
      "metadata": {
        "id": "MPoWKOcrg1AY",
        "colab": {
          "base_uri": "https://localhost:8080/",
          "height": 148
        },
        "outputId": "2cd71775-30e0-4fc6-ec12-3e4cc19d4240"
      },
      "source": [
        "df['Activity'].value_counts()"
      ],
      "execution_count": null,
      "outputs": [
        {
          "output_type": "execute_result",
          "data": {
            "text/plain": [
              "Walking       424397\n",
              "Jogging       342176\n",
              "Upstairs      122869\n",
              "Downstairs    100427\n",
              "Sitting        59939\n",
              "Standing       48395\n",
              "Name: Activity, dtype: int64"
            ]
          },
          "metadata": {
            "tags": []
          },
          "execution_count": 8
        }
      ]
    },
    {
      "cell_type": "code",
      "metadata": {
        "id": "WDLGduVBhOU_",
        "colab": {
          "base_uri": "https://localhost:8080/",
          "height": 260
        },
        "outputId": "d74a903f-e3c5-4091-f960-3ca8e325dac8"
      },
      "source": [
        "df.info()"
      ],
      "execution_count": null,
      "outputs": [
        {
          "output_type": "stream",
          "text": [
            "<class 'pandas.core.frame.DataFrame'>\n",
            "Int64Index: 1098203 entries, 0 to 1098203\n",
            "Data columns (total 6 columns):\n",
            " #   Column      Non-Null Count    Dtype  \n",
            "---  ------      --------------    -----  \n",
            " 0   User        1098203 non-null  int64  \n",
            " 1   Activity    1098203 non-null  object \n",
            " 2   Time Stamp  1098203 non-null  int64  \n",
            " 3   x-axis      1098203 non-null  float64\n",
            " 4   y-axis      1098203 non-null  float64\n",
            " 5   z-axis      1098203 non-null  float64\n",
            "dtypes: float64(3), int64(2), object(1)\n",
            "memory usage: 58.7+ MB\n"
          ],
          "name": "stdout"
        }
      ]
    },
    {
      "cell_type": "code",
      "metadata": {
        "id": "0HZpmq_KhUBY"
      },
      "source": [
        "df=df.drop(['User','Time Stamp'],axis=1)"
      ],
      "execution_count": null,
      "outputs": []
    },
    {
      "cell_type": "code",
      "metadata": {
        "id": "ekPf3JMdhahe",
        "colab": {
          "base_uri": "https://localhost:8080/",
          "height": 241
        },
        "outputId": "a855545e-f398-448f-ae7b-5304be6867c8"
      },
      "source": [
        "from sklearn.preprocessing import LabelEncoder\n",
        "le=LabelEncoder()\n",
        "df['Label']=le.fit_transform(df.Activity)\n",
        "df.info()"
      ],
      "execution_count": null,
      "outputs": [
        {
          "output_type": "stream",
          "text": [
            "<class 'pandas.core.frame.DataFrame'>\n",
            "Int64Index: 1098203 entries, 0 to 1098203\n",
            "Data columns (total 5 columns):\n",
            " #   Column    Non-Null Count    Dtype  \n",
            "---  ------    --------------    -----  \n",
            " 0   Activity  1098203 non-null  object \n",
            " 1   x-axis    1098203 non-null  float64\n",
            " 2   y-axis    1098203 non-null  float64\n",
            " 3   z-axis    1098203 non-null  float64\n",
            " 4   Label     1098203 non-null  int64  \n",
            "dtypes: float64(3), int64(1), object(1)\n",
            "memory usage: 50.3+ MB\n"
          ],
          "name": "stdout"
        }
      ]
    },
    {
      "cell_type": "code",
      "metadata": {
        "id": "xr58PGhGfDHE",
        "colab": {
          "base_uri": "https://localhost:8080/",
          "height": 54
        },
        "outputId": "a7333733-cb9d-493e-99e8-da0129938c24"
      },
      "source": [
        "le.classes_"
      ],
      "execution_count": null,
      "outputs": [
        {
          "output_type": "execute_result",
          "data": {
            "text/plain": [
              "array(['Downstairs', 'Jogging', 'Sitting', 'Standing', 'Upstairs',\n",
              "       'Walking'], dtype=object)"
            ]
          },
          "metadata": {
            "tags": []
          },
          "execution_count": 12
        }
      ]
    },
    {
      "cell_type": "code",
      "metadata": {
        "id": "mrx0iuFtyoM1",
        "colab": {
          "base_uri": "https://localhost:8080/",
          "height": 148
        },
        "outputId": "d067c17d-7f56-431a-c671-01d5476cff93"
      },
      "source": [
        "df.Activity.value_counts()"
      ],
      "execution_count": null,
      "outputs": [
        {
          "output_type": "execute_result",
          "data": {
            "text/plain": [
              "Walking       424397\n",
              "Jogging       342176\n",
              "Upstairs      122869\n",
              "Downstairs    100427\n",
              "Sitting        59939\n",
              "Standing       48395\n",
              "Name: Activity, dtype: int64"
            ]
          },
          "metadata": {
            "tags": []
          },
          "execution_count": 13
        }
      ]
    },
    {
      "cell_type": "code",
      "metadata": {
        "id": "QLFnsGH1ysHB",
        "colab": {
          "base_uri": "https://localhost:8080/",
          "height": 36
        },
        "outputId": "197fa3a7-c424-49c6-965c-f0ba312ea5aa"
      },
      "source": [
        "424397 * .9\n"
      ],
      "execution_count": null,
      "outputs": [
        {
          "output_type": "execute_result",
          "data": {
            "text/plain": [
              "381957.3"
            ]
          },
          "metadata": {
            "tags": []
          },
          "execution_count": 14
        }
      ]
    },
    {
      "cell_type": "code",
      "metadata": {
        "id": "BMtJOoSKk5mE"
      },
      "source": [
        "Walking=df[df['Activity']=='Walking'].head(318297)\n",
        "Jogging=df[df['Activity']=='Jogging'].head(256632)\n",
        "Upstairs=df[df['Activity']=='Upstairs'].head(92151)\n",
        "Downstairs=df[df['Activity']=='Downstairs'].head(75320)\n",
        "Sitting=df[df['Activity']=='Sitting'].head(44954)\n",
        "Standing=df[df['Activity']=='Standing'].head(36296)\n",
        "Walking2=df[df['Activity']=='Walking'].tail(424397-318297)\n",
        "Jogging2=df[df['Activity']=='Jogging'].tail(342176-256632)\n",
        "Upstairs2=df[df['Activity']=='Upstairs'].tail(122869-92151)\n",
        "Downstairs2=df[df['Activity']=='Downstairs'].tail(100427-75320)\n",
        "Sitting2=df[df['Activity']=='Sitting'].tail(59939-44954)\n",
        "Standing2=df[df['Activity']=='Standing'].tail(48395-36296)\n"
      ],
      "execution_count": null,
      "outputs": []
    },
    {
      "cell_type": "code",
      "metadata": {
        "id": "lnfeT3Jhll-O"
      },
      "source": [
        "training_data=pd.DataFrame()\n",
        "test_data=pd.DataFrame()\n",
        "train=training_data.append([Walking,Jogging,Upstairs,Downstairs,Sitting,Standing])\n",
        "test=test_data.append([Walking2,Jogging2,Upstairs2,Downstairs2,Sitting2,Standing2])\n",
        "\n",
        "\n"
      ],
      "execution_count": null,
      "outputs": []
    },
    {
      "cell_type": "code",
      "metadata": {
        "id": "r2a_JJd1Ci8I",
        "colab": {
          "base_uri": "https://localhost:8080/",
          "height": 424
        },
        "outputId": "8c11adba-068e-403d-e429-cc7535ca5a11"
      },
      "source": [
        "train"
      ],
      "execution_count": null,
      "outputs": [
        {
          "output_type": "execute_result",
          "data": {
            "text/html": [
              "<div>\n",
              "<style scoped>\n",
              "    .dataframe tbody tr th:only-of-type {\n",
              "        vertical-align: middle;\n",
              "    }\n",
              "\n",
              "    .dataframe tbody tr th {\n",
              "        vertical-align: top;\n",
              "    }\n",
              "\n",
              "    .dataframe thead th {\n",
              "        text-align: right;\n",
              "    }\n",
              "</style>\n",
              "<table border=\"1\" class=\"dataframe\">\n",
              "  <thead>\n",
              "    <tr style=\"text-align: right;\">\n",
              "      <th></th>\n",
              "      <th>Activity</th>\n",
              "      <th>x-axis</th>\n",
              "      <th>y-axis</th>\n",
              "      <th>z-axis</th>\n",
              "      <th>Label</th>\n",
              "    </tr>\n",
              "  </thead>\n",
              "  <tbody>\n",
              "    <tr>\n",
              "      <th>597</th>\n",
              "      <td>Walking</td>\n",
              "      <td>0.844462</td>\n",
              "      <td>8.008764</td>\n",
              "      <td>2.792171</td>\n",
              "      <td>5</td>\n",
              "    </tr>\n",
              "    <tr>\n",
              "      <th>598</th>\n",
              "      <td>Walking</td>\n",
              "      <td>1.116869</td>\n",
              "      <td>8.621680</td>\n",
              "      <td>3.786457</td>\n",
              "      <td>5</td>\n",
              "    </tr>\n",
              "    <tr>\n",
              "      <th>599</th>\n",
              "      <td>Walking</td>\n",
              "      <td>-0.503953</td>\n",
              "      <td>16.657684</td>\n",
              "      <td>1.307553</td>\n",
              "      <td>5</td>\n",
              "    </tr>\n",
              "    <tr>\n",
              "      <th>600</th>\n",
              "      <td>Walking</td>\n",
              "      <td>4.794363</td>\n",
              "      <td>10.760075</td>\n",
              "      <td>-1.184970</td>\n",
              "      <td>5</td>\n",
              "    </tr>\n",
              "    <tr>\n",
              "      <th>601</th>\n",
              "      <td>Walking</td>\n",
              "      <td>-0.040861</td>\n",
              "      <td>9.234595</td>\n",
              "      <td>-0.694638</td>\n",
              "      <td>5</td>\n",
              "    </tr>\n",
              "    <tr>\n",
              "      <th>...</th>\n",
              "      <td>...</td>\n",
              "      <td>...</td>\n",
              "      <td>...</td>\n",
              "      <td>...</td>\n",
              "      <td>...</td>\n",
              "    </tr>\n",
              "    <tr>\n",
              "      <th>830972</th>\n",
              "      <td>Standing</td>\n",
              "      <td>4.020000</td>\n",
              "      <td>8.240000</td>\n",
              "      <td>0.300000</td>\n",
              "      <td>3</td>\n",
              "    </tr>\n",
              "    <tr>\n",
              "      <th>830973</th>\n",
              "      <td>Standing</td>\n",
              "      <td>4.020000</td>\n",
              "      <td>8.350000</td>\n",
              "      <td>0.340000</td>\n",
              "      <td>3</td>\n",
              "    </tr>\n",
              "    <tr>\n",
              "      <th>830974</th>\n",
              "      <td>Standing</td>\n",
              "      <td>3.950000</td>\n",
              "      <td>8.280000</td>\n",
              "      <td>0.110000</td>\n",
              "      <td>3</td>\n",
              "    </tr>\n",
              "    <tr>\n",
              "      <th>830975</th>\n",
              "      <td>Standing</td>\n",
              "      <td>3.980000</td>\n",
              "      <td>8.500000</td>\n",
              "      <td>0.040000</td>\n",
              "      <td>3</td>\n",
              "    </tr>\n",
              "    <tr>\n",
              "      <th>830976</th>\n",
              "      <td>Standing</td>\n",
              "      <td>4.180000</td>\n",
              "      <td>8.310000</td>\n",
              "      <td>-0.040000</td>\n",
              "      <td>3</td>\n",
              "    </tr>\n",
              "  </tbody>\n",
              "</table>\n",
              "<p>823650 rows × 5 columns</p>\n",
              "</div>"
            ],
            "text/plain": [
              "        Activity    x-axis     y-axis    z-axis  Label\n",
              "597      Walking  0.844462   8.008764  2.792171      5\n",
              "598      Walking  1.116869   8.621680  3.786457      5\n",
              "599      Walking -0.503953  16.657684  1.307553      5\n",
              "600      Walking  4.794363  10.760075 -1.184970      5\n",
              "601      Walking -0.040861   9.234595 -0.694638      5\n",
              "...          ...       ...        ...       ...    ...\n",
              "830972  Standing  4.020000   8.240000  0.300000      3\n",
              "830973  Standing  4.020000   8.350000  0.340000      3\n",
              "830974  Standing  3.950000   8.280000  0.110000      3\n",
              "830975  Standing  3.980000   8.500000  0.040000      3\n",
              "830976  Standing  4.180000   8.310000 -0.040000      3\n",
              "\n",
              "[823650 rows x 5 columns]"
            ]
          },
          "metadata": {
            "tags": []
          },
          "execution_count": 30
        }
      ]
    },
    {
      "cell_type": "code",
      "metadata": {
        "id": "WVTZUB2beAWH",
        "colab": {
          "base_uri": "https://localhost:8080/",
          "height": 424
        },
        "outputId": "85ac48b4-1589-49f6-9708-9d7c6303719d"
      },
      "source": [
        "test"
      ],
      "execution_count": null,
      "outputs": [
        {
          "output_type": "execute_result",
          "data": {
            "text/html": [
              "<div>\n",
              "<style scoped>\n",
              "    .dataframe tbody tr th:only-of-type {\n",
              "        vertical-align: middle;\n",
              "    }\n",
              "\n",
              "    .dataframe tbody tr th {\n",
              "        vertical-align: top;\n",
              "    }\n",
              "\n",
              "    .dataframe thead th {\n",
              "        text-align: right;\n",
              "    }\n",
              "</style>\n",
              "<table border=\"1\" class=\"dataframe\">\n",
              "  <thead>\n",
              "    <tr style=\"text-align: right;\">\n",
              "      <th></th>\n",
              "      <th>Activity</th>\n",
              "      <th>x-axis</th>\n",
              "      <th>y-axis</th>\n",
              "      <th>z-axis</th>\n",
              "      <th>Label</th>\n",
              "    </tr>\n",
              "  </thead>\n",
              "  <tbody>\n",
              "    <tr>\n",
              "      <th>844883</th>\n",
              "      <td>Walking</td>\n",
              "      <td>-1.76</td>\n",
              "      <td>13.63</td>\n",
              "      <td>3.02</td>\n",
              "      <td>5</td>\n",
              "    </tr>\n",
              "    <tr>\n",
              "      <th>844884</th>\n",
              "      <td>Walking</td>\n",
              "      <td>2.96</td>\n",
              "      <td>10.99</td>\n",
              "      <td>1.33</td>\n",
              "      <td>5</td>\n",
              "    </tr>\n",
              "    <tr>\n",
              "      <th>844885</th>\n",
              "      <td>Walking</td>\n",
              "      <td>-0.61</td>\n",
              "      <td>4.99</td>\n",
              "      <td>1.92</td>\n",
              "      <td>5</td>\n",
              "    </tr>\n",
              "    <tr>\n",
              "      <th>844886</th>\n",
              "      <td>Walking</td>\n",
              "      <td>-0.69</td>\n",
              "      <td>4.94</td>\n",
              "      <td>1.08</td>\n",
              "      <td>5</td>\n",
              "    </tr>\n",
              "    <tr>\n",
              "      <th>844887</th>\n",
              "      <td>Walking</td>\n",
              "      <td>-2.34</td>\n",
              "      <td>3.68</td>\n",
              "      <td>0.80</td>\n",
              "      <td>5</td>\n",
              "    </tr>\n",
              "    <tr>\n",
              "      <th>...</th>\n",
              "      <td>...</td>\n",
              "      <td>...</td>\n",
              "      <td>...</td>\n",
              "      <td>...</td>\n",
              "      <td>...</td>\n",
              "    </tr>\n",
              "    <tr>\n",
              "      <th>1095665</th>\n",
              "      <td>Standing</td>\n",
              "      <td>-4.99</td>\n",
              "      <td>8.39</td>\n",
              "      <td>-0.38</td>\n",
              "      <td>3</td>\n",
              "    </tr>\n",
              "    <tr>\n",
              "      <th>1095666</th>\n",
              "      <td>Standing</td>\n",
              "      <td>-5.13</td>\n",
              "      <td>8.24</td>\n",
              "      <td>-0.42</td>\n",
              "      <td>3</td>\n",
              "    </tr>\n",
              "    <tr>\n",
              "      <th>1095667</th>\n",
              "      <td>Standing</td>\n",
              "      <td>-4.56</td>\n",
              "      <td>8.50</td>\n",
              "      <td>-0.89</td>\n",
              "      <td>3</td>\n",
              "    </tr>\n",
              "    <tr>\n",
              "      <th>1095668</th>\n",
              "      <td>Standing</td>\n",
              "      <td>-4.48</td>\n",
              "      <td>8.54</td>\n",
              "      <td>-1.08</td>\n",
              "      <td>3</td>\n",
              "    </tr>\n",
              "    <tr>\n",
              "      <th>1095669</th>\n",
              "      <td>Standing</td>\n",
              "      <td>-4.94</td>\n",
              "      <td>8.28</td>\n",
              "      <td>-0.84</td>\n",
              "      <td>3</td>\n",
              "    </tr>\n",
              "  </tbody>\n",
              "</table>\n",
              "<p>274553 rows × 5 columns</p>\n",
              "</div>"
            ],
            "text/plain": [
              "         Activity  x-axis  y-axis  z-axis  Label\n",
              "844883    Walking   -1.76   13.63    3.02      5\n",
              "844884    Walking    2.96   10.99    1.33      5\n",
              "844885    Walking   -0.61    4.99    1.92      5\n",
              "844886    Walking   -0.69    4.94    1.08      5\n",
              "844887    Walking   -2.34    3.68    0.80      5\n",
              "...           ...     ...     ...     ...    ...\n",
              "1095665  Standing   -4.99    8.39   -0.38      3\n",
              "1095666  Standing   -5.13    8.24   -0.42      3\n",
              "1095667  Standing   -4.56    8.50   -0.89      3\n",
              "1095668  Standing   -4.48    8.54   -1.08      3\n",
              "1095669  Standing   -4.94    8.28   -0.84      3\n",
              "\n",
              "[274553 rows x 5 columns]"
            ]
          },
          "metadata": {
            "tags": []
          },
          "execution_count": 31
        }
      ]
    },
    {
      "cell_type": "code",
      "metadata": {
        "id": "Q_CM-IpZ5q3s"
      },
      "source": [
        "\n",
        "Xtrain=train[['x-axis','y-axis','z-axis','Label']]\n",
        "Xtest=test[['x-axis','y-axis','z-axis','Label']]\n"
      ],
      "execution_count": null,
      "outputs": []
    },
    {
      "cell_type": "code",
      "metadata": {
        "id": "q0P5PweqHAb4"
      },
      "source": [
        "Ytrain=train['Activity']\n",
        "Ytest=test['Activity']"
      ],
      "execution_count": null,
      "outputs": []
    },
    {
      "cell_type": "code",
      "metadata": {
        "id": "RBqDQ3PznIXV",
        "colab": {
          "base_uri": "https://localhost:8080/",
          "height": 424
        },
        "outputId": "f6afbd2d-0f3a-41f1-bb88-7b026fe0c3e5"
      },
      "source": [
        "# x=scaler1.fit_transform(x)\n",
        "Xtrain\n"
      ],
      "execution_count": null,
      "outputs": [
        {
          "output_type": "execute_result",
          "data": {
            "text/html": [
              "<div>\n",
              "<style scoped>\n",
              "    .dataframe tbody tr th:only-of-type {\n",
              "        vertical-align: middle;\n",
              "    }\n",
              "\n",
              "    .dataframe tbody tr th {\n",
              "        vertical-align: top;\n",
              "    }\n",
              "\n",
              "    .dataframe thead th {\n",
              "        text-align: right;\n",
              "    }\n",
              "</style>\n",
              "<table border=\"1\" class=\"dataframe\">\n",
              "  <thead>\n",
              "    <tr style=\"text-align: right;\">\n",
              "      <th></th>\n",
              "      <th>x-axis</th>\n",
              "      <th>y-axis</th>\n",
              "      <th>z-axis</th>\n",
              "      <th>Label</th>\n",
              "    </tr>\n",
              "  </thead>\n",
              "  <tbody>\n",
              "    <tr>\n",
              "      <th>597</th>\n",
              "      <td>0.844462</td>\n",
              "      <td>8.008764</td>\n",
              "      <td>2.792171</td>\n",
              "      <td>5</td>\n",
              "    </tr>\n",
              "    <tr>\n",
              "      <th>598</th>\n",
              "      <td>1.116869</td>\n",
              "      <td>8.621680</td>\n",
              "      <td>3.786457</td>\n",
              "      <td>5</td>\n",
              "    </tr>\n",
              "    <tr>\n",
              "      <th>599</th>\n",
              "      <td>-0.503953</td>\n",
              "      <td>16.657684</td>\n",
              "      <td>1.307553</td>\n",
              "      <td>5</td>\n",
              "    </tr>\n",
              "    <tr>\n",
              "      <th>600</th>\n",
              "      <td>4.794363</td>\n",
              "      <td>10.760075</td>\n",
              "      <td>-1.184970</td>\n",
              "      <td>5</td>\n",
              "    </tr>\n",
              "    <tr>\n",
              "      <th>601</th>\n",
              "      <td>-0.040861</td>\n",
              "      <td>9.234595</td>\n",
              "      <td>-0.694638</td>\n",
              "      <td>5</td>\n",
              "    </tr>\n",
              "    <tr>\n",
              "      <th>...</th>\n",
              "      <td>...</td>\n",
              "      <td>...</td>\n",
              "      <td>...</td>\n",
              "      <td>...</td>\n",
              "    </tr>\n",
              "    <tr>\n",
              "      <th>830972</th>\n",
              "      <td>4.020000</td>\n",
              "      <td>8.240000</td>\n",
              "      <td>0.300000</td>\n",
              "      <td>3</td>\n",
              "    </tr>\n",
              "    <tr>\n",
              "      <th>830973</th>\n",
              "      <td>4.020000</td>\n",
              "      <td>8.350000</td>\n",
              "      <td>0.340000</td>\n",
              "      <td>3</td>\n",
              "    </tr>\n",
              "    <tr>\n",
              "      <th>830974</th>\n",
              "      <td>3.950000</td>\n",
              "      <td>8.280000</td>\n",
              "      <td>0.110000</td>\n",
              "      <td>3</td>\n",
              "    </tr>\n",
              "    <tr>\n",
              "      <th>830975</th>\n",
              "      <td>3.980000</td>\n",
              "      <td>8.500000</td>\n",
              "      <td>0.040000</td>\n",
              "      <td>3</td>\n",
              "    </tr>\n",
              "    <tr>\n",
              "      <th>830976</th>\n",
              "      <td>4.180000</td>\n",
              "      <td>8.310000</td>\n",
              "      <td>-0.040000</td>\n",
              "      <td>3</td>\n",
              "    </tr>\n",
              "  </tbody>\n",
              "</table>\n",
              "<p>823650 rows × 4 columns</p>\n",
              "</div>"
            ],
            "text/plain": [
              "          x-axis     y-axis    z-axis  Label\n",
              "597     0.844462   8.008764  2.792171      5\n",
              "598     1.116869   8.621680  3.786457      5\n",
              "599    -0.503953  16.657684  1.307553      5\n",
              "600     4.794363  10.760075 -1.184970      5\n",
              "601    -0.040861   9.234595 -0.694638      5\n",
              "...          ...        ...       ...    ...\n",
              "830972  4.020000   8.240000  0.300000      3\n",
              "830973  4.020000   8.350000  0.340000      3\n",
              "830974  3.950000   8.280000  0.110000      3\n",
              "830975  3.980000   8.500000  0.040000      3\n",
              "830976  4.180000   8.310000 -0.040000      3\n",
              "\n",
              "[823650 rows x 4 columns]"
            ]
          },
          "metadata": {
            "tags": []
          },
          "execution_count": 34
        }
      ]
    },
    {
      "cell_type": "code",
      "metadata": {
        "id": "Sc8rffm6OCni",
        "colab": {
          "base_uri": "https://localhost:8080/",
          "height": 241
        },
        "outputId": "54d2fe96-62e7-45b7-93a9-47032de33d4f"
      },
      "source": [
        "Ytrain"
      ],
      "execution_count": null,
      "outputs": [
        {
          "output_type": "execute_result",
          "data": {
            "text/plain": [
              "597        Walking\n",
              "598        Walking\n",
              "599        Walking\n",
              "600        Walking\n",
              "601        Walking\n",
              "            ...   \n",
              "830972    Standing\n",
              "830973    Standing\n",
              "830974    Standing\n",
              "830975    Standing\n",
              "830976    Standing\n",
              "Name: Activity, Length: 823650, dtype: object"
            ]
          },
          "metadata": {
            "tags": []
          },
          "execution_count": 35
        }
      ]
    },
    {
      "cell_type": "code",
      "metadata": {
        "id": "DpTjfQjAnIvC",
        "colab": {
          "base_uri": "https://localhost:8080/",
          "height": 485
        },
        "outputId": "3ee085cb-31fb-47db-d01c-8287edffa192"
      },
      "source": [
        "from sklearn.preprocessing import StandardScaler\n",
        "scaler=StandardScaler()\n",
        "Xtrain[['x-axis','y-axis','z-axis']]=scaler.fit_transform(Xtrain[['x-axis','y-axis','z-axis']])\n",
        "Xtest[['x-axis','y-axis','z-axis']]=scaler.fit_transform(Xtest[['x-axis','y-axis','z-axis']])\n"
      ],
      "execution_count": null,
      "outputs": [
        {
          "output_type": "stream",
          "text": [
            "/usr/local/lib/python3.6/dist-packages/ipykernel_launcher.py:3: SettingWithCopyWarning: \n",
            "A value is trying to be set on a copy of a slice from a DataFrame.\n",
            "Try using .loc[row_indexer,col_indexer] = value instead\n",
            "\n",
            "See the caveats in the documentation: https://pandas.pydata.org/pandas-docs/stable/user_guide/indexing.html#returning-a-view-versus-a-copy\n",
            "  This is separate from the ipykernel package so we can avoid doing imports until\n",
            "/usr/local/lib/python3.6/dist-packages/pandas/core/indexing.py:966: SettingWithCopyWarning: \n",
            "A value is trying to be set on a copy of a slice from a DataFrame.\n",
            "Try using .loc[row_indexer,col_indexer] = value instead\n",
            "\n",
            "See the caveats in the documentation: https://pandas.pydata.org/pandas-docs/stable/user_guide/indexing.html#returning-a-view-versus-a-copy\n",
            "  self.obj[item] = s\n",
            "/usr/local/lib/python3.6/dist-packages/ipykernel_launcher.py:4: SettingWithCopyWarning: \n",
            "A value is trying to be set on a copy of a slice from a DataFrame.\n",
            "Try using .loc[row_indexer,col_indexer] = value instead\n",
            "\n",
            "See the caveats in the documentation: https://pandas.pydata.org/pandas-docs/stable/user_guide/indexing.html#returning-a-view-versus-a-copy\n",
            "  after removing the cwd from sys.path.\n",
            "/usr/local/lib/python3.6/dist-packages/pandas/core/indexing.py:966: SettingWithCopyWarning: \n",
            "A value is trying to be set on a copy of a slice from a DataFrame.\n",
            "Try using .loc[row_indexer,col_indexer] = value instead\n",
            "\n",
            "See the caveats in the documentation: https://pandas.pydata.org/pandas-docs/stable/user_guide/indexing.html#returning-a-view-versus-a-copy\n",
            "  self.obj[item] = s\n"
          ],
          "name": "stderr"
        }
      ]
    },
    {
      "cell_type": "code",
      "metadata": {
        "id": "lZwWmWmU8NM5"
      },
      "source": [
        "Ytrain=np.array(Ytrain)\n",
        "Ytest=np.array(Ytest)"
      ],
      "execution_count": null,
      "outputs": []
    },
    {
      "cell_type": "code",
      "metadata": {
        "id": "YmF66MhI5vQH"
      },
      "source": [
        "\n",
        "hop_size = 30\n",
        "from scipy import stats"
      ],
      "execution_count": null,
      "outputs": []
    },
    {
      "cell_type": "code",
      "metadata": {
        "id": "2TssK_cZOO_p",
        "colab": {
          "base_uri": "https://localhost:8080/",
          "height": 54
        },
        "outputId": "7e6a2f99-de04-41f9-cac5-a688810afd68"
      },
      "source": [
        "Ytrain"
      ],
      "execution_count": null,
      "outputs": [
        {
          "output_type": "execute_result",
          "data": {
            "text/plain": [
              "array(['Walking', 'Walking', 'Walking', ..., 'Standing', 'Standing',\n",
              "       'Standing'], dtype=object)"
            ]
          },
          "metadata": {
            "tags": []
          },
          "execution_count": 39
        }
      ]
    },
    {
      "cell_type": "code",
      "metadata": {
        "id": "TXodZz0uoRSU"
      },
      "source": [
        "def get_frame1(df1,df2, hop_size):\n",
        "  N_FEATURES = 3\n",
        "\n",
        "  frames=[]\n",
        "  label1=[]\n",
        "  inte=200\n",
        "  label2=[]\n",
        "\n",
        "  for i in range(inte, len(df1),hop_size):\n",
        "    x=df1['x-axis'].values[i-inte:i]\n",
        "    y=df1['y-axis'].values[i-inte:i]\n",
        "    z=df1['z-axis'].values[i-inte:i]\n",
        "\n",
        "    \n",
        "    label3=stats.mode(df2[i-inte:i])[0][0]\n",
        "    label4=stats.mode(df1['Label'][i-inte:i])[0][0]\n",
        "\n",
        "    frames.append([x,y,z])\n",
        "    label1.append(label3)\n",
        "    label2.append(label4)\n",
        "\n",
        "\n",
        "  return frames, label1,label2"
      ],
      "execution_count": null,
      "outputs": []
    },
    {
      "cell_type": "code",
      "metadata": {
        "id": "rDBNdicd1Vvm"
      },
      "source": [
        "Xtrain,ytrain,ytr=get_frame1(Xtrain,Ytrain,hop_size)\n",
        "Xtest,ytest,yts=get_frame1(Xtest,Ytest,hop_size )"
      ],
      "execution_count": null,
      "outputs": []
    },
    {
      "cell_type": "code",
      "metadata": {
        "id": "gZZlzjYfoe9S"
      },
      "source": [
        "ytrain=np.array(pd.get_dummies(ytrain))\n",
        "ytest=np.array(pd.get_dummies(ytest))"
      ],
      "execution_count": null,
      "outputs": []
    },
    {
      "cell_type": "code",
      "metadata": {
        "id": "_rYNHLxI3IMm",
        "colab": {
          "base_uri": "https://localhost:8080/",
          "height": 36
        },
        "outputId": "aace3a6f-918b-4d5f-be95-b4321802c6bb"
      },
      "source": [
        "ytest.shape,ytrain.shape"
      ],
      "execution_count": null,
      "outputs": [
        {
          "output_type": "execute_result",
          "data": {
            "text/plain": [
              "((9146, 6), (27449, 6))"
            ]
          },
          "metadata": {
            "tags": []
          },
          "execution_count": 43
        }
      ]
    },
    {
      "cell_type": "code",
      "metadata": {
        "id": "BuU_dFDPom7S",
        "colab": {
          "base_uri": "https://localhost:8080/",
          "height": 36
        },
        "outputId": "df8af2bb-b627-463c-be91-72ea397a4fe2"
      },
      "source": [
        "Xtest=np.array(Xtest)\n",
        "\n",
        "Xtest.shape"
      ],
      "execution_count": null,
      "outputs": [
        {
          "output_type": "execute_result",
          "data": {
            "text/plain": [
              "(9146, 3, 200)"
            ]
          },
          "metadata": {
            "tags": []
          },
          "execution_count": 44
        }
      ]
    },
    {
      "cell_type": "code",
      "metadata": {
        "id": "gPXim4Gf78Ef"
      },
      "source": [
        "Xtrain=np.array(Xtrain)"
      ],
      "execution_count": null,
      "outputs": []
    },
    {
      "cell_type": "code",
      "metadata": {
        "id": "XMeDp1mWxFTJ",
        "colab": {
          "base_uri": "https://localhost:8080/",
          "height": 148
        },
        "outputId": "fe75f84e-64ab-4c04-b8b2-211180041e3c"
      },
      "source": [
        "ytrain"
      ],
      "execution_count": null,
      "outputs": [
        {
          "output_type": "execute_result",
          "data": {
            "text/plain": [
              "array([[0, 0, 0, 0, 0, 1],\n",
              "       [0, 0, 0, 0, 0, 1],\n",
              "       [0, 0, 0, 0, 0, 1],\n",
              "       ...,\n",
              "       [0, 0, 0, 1, 0, 0],\n",
              "       [0, 0, 0, 1, 0, 0],\n",
              "       [0, 0, 0, 1, 0, 0]], dtype=uint8)"
            ]
          },
          "metadata": {
            "tags": []
          },
          "execution_count": 46
        }
      ]
    },
    {
      "cell_type": "code",
      "metadata": {
        "id": "mMF6N9VI499Q",
        "colab": {
          "base_uri": "https://localhost:8080/",
          "height": 36
        },
        "outputId": "f26a6188-c568-4240-f5d8-6627bd60244b"
      },
      "source": [
        "Xtrain.shape"
      ],
      "execution_count": null,
      "outputs": [
        {
          "output_type": "execute_result",
          "data": {
            "text/plain": [
              "(27449, 3, 200)"
            ]
          },
          "metadata": {
            "tags": []
          },
          "execution_count": 47
        }
      ]
    },
    {
      "cell_type": "code",
      "metadata": {
        "id": "bt3DDtdm7WIW",
        "colab": {
          "base_uri": "https://localhost:8080/",
          "height": 148
        },
        "outputId": "b86d5440-311d-4024-f659-053a6deb4775"
      },
      "source": [
        "ytrain"
      ],
      "execution_count": null,
      "outputs": [
        {
          "output_type": "execute_result",
          "data": {
            "text/plain": [
              "array([[0, 0, 0, 0, 0, 1],\n",
              "       [0, 0, 0, 0, 0, 1],\n",
              "       [0, 0, 0, 0, 0, 1],\n",
              "       ...,\n",
              "       [0, 0, 0, 1, 0, 0],\n",
              "       [0, 0, 0, 1, 0, 0],\n",
              "       [0, 0, 0, 1, 0, 0]], dtype=uint8)"
            ]
          },
          "metadata": {
            "tags": []
          },
          "execution_count": 48
        }
      ]
    },
    {
      "cell_type": "code",
      "metadata": {
        "id": "fDOP7y8rWwYa",
        "colab": {
          "base_uri": "https://localhost:8080/",
          "height": 820
        },
        "outputId": "f246bd43-7666-468b-bc89-df8940a48b1e"
      },
      "source": [
        "Xtrain"
      ],
      "execution_count": null,
      "outputs": [
        {
          "output_type": "execute_result",
          "data": {
            "text/plain": [
              "array([[[-0.01176917,  0.02929127, -0.21501836, ...,  0.20174512,\n",
              "         -0.23144253, -0.26018484],\n",
              "        [ 0.06786175,  0.15840392,  1.34551153, ..., -0.14742722,\n",
              "         -0.58806556,  0.16846419],\n",
              "        [ 0.50383578,  0.70837034,  0.19843489, ..., -0.55245909,\n",
              "         -0.44038537, -0.21343606]],\n",
              "\n",
              "       [[-0.34025269,  0.06213961, -0.7693343 , ..., -0.30124529,\n",
              "         -1.0403332 , -0.24376066],\n",
              "        [-1.08705322,  1.57890924,  1.28515033, ...,  0.65537957,\n",
              "          1.03565651, -0.67458359],\n",
              "        [-0.62250517,  2.75091424,  0.17321831, ..., -0.25266188,\n",
              "          0.37214918, -0.21343606]],\n",
              "\n",
              "       [[-0.09183703,  0.55486495, -0.30124529, ..., -0.38131314,\n",
              "         -0.28892716, -1.30517311],\n",
              "        [ 0.19864487,  0.80225895,  0.96724688, ..., -0.75908954,\n",
              "          1.04169264,  1.41392131],\n",
              "        [-0.07894759,  0.22925516, -0.91389694, ..., -0.33951901,\n",
              "          2.00282207, -0.053731  ]],\n",
              "\n",
              "       ...,\n",
              "\n",
              "       [[ 0.18350991,  0.23626611,  0.32971994, ...,  0.45030553,\n",
              "          0.43824697,  0.45030553],\n",
              "        [-0.01320366,  0.26451675,  0.21429072, ...,  0.11236142,\n",
              "          0.14633785,  0.11236142],\n",
              "        [-0.34413651, -0.35442201, -0.27419507, ..., -0.04791395,\n",
              "         -0.04791395, -0.03145714]],\n",
              "\n",
              "       [[ 0.35835902,  0.38699809,  0.39905665, ...,  0.48497388,\n",
              "          0.5015544 ,  0.45030553],\n",
              "        [ 0.18622323,  0.09611182,  0.22610861, ...,  0.11827036,\n",
              "          0.11827036,  0.1359972 ],\n",
              "        [-0.20425363, -0.18779682, -0.13431219, ..., -0.07054206,\n",
              "         -0.05408525, -0.04791395]],\n",
              "\n",
              "       [[ 0.32971994,  0.35232974,  0.37493953, ...,  0.5015544 ,\n",
              "          0.46085677,  0.44427625],\n",
              "        [ 0.16406469,  0.17440534,  0.18622323, ...,  0.1359972 ,\n",
              "          0.12417931,  0.12417931],\n",
              "        [-0.10139858, -0.12608379, -0.11785539, ..., -0.08699887,\n",
              "         -0.07877046, -0.09317017]]])"
            ]
          },
          "metadata": {
            "tags": []
          },
          "execution_count": 49
        }
      ]
    },
    {
      "cell_type": "code",
      "metadata": {
        "id": "p_x8Dw76G2D_"
      },
      "source": [
        "ytr=np.array(ytr)\n",
        "yts=np.array(yts)\n"
      ],
      "execution_count": null,
      "outputs": []
    },
    {
      "cell_type": "code",
      "metadata": {
        "id": "cumyLwcs9Hge",
        "colab": {
          "base_uri": "https://localhost:8080/",
          "height": 36
        },
        "outputId": "e5b2893c-9616-4314-f31c-ce0b6b808e4c"
      },
      "source": [
        "Xtest.shape,yts.shape,ytest.shape"
      ],
      "execution_count": null,
      "outputs": [
        {
          "output_type": "execute_result",
          "data": {
            "text/plain": [
              "((9146, 3, 200), (9146,), (9146, 6))"
            ]
          },
          "metadata": {
            "tags": []
          },
          "execution_count": 51
        }
      ]
    },
    {
      "cell_type": "code",
      "metadata": {
        "id": "kTuwbtqNIUHj",
        "colab": {
          "base_uri": "https://localhost:8080/",
          "height": 36
        },
        "outputId": "b4200a30-e8bb-403e-d7b2-787049f6deb1"
      },
      "source": [
        "Xtrain.shape,ytr.shape,ytrain.shape"
      ],
      "execution_count": null,
      "outputs": [
        {
          "output_type": "execute_result",
          "data": {
            "text/plain": [
              "((27449, 3, 200), (27449,), (27449, 6))"
            ]
          },
          "metadata": {
            "tags": []
          },
          "execution_count": 52
        }
      ]
    },
    {
      "cell_type": "code",
      "metadata": {
        "id": "e9SL0kKu_GPv"
      },
      "source": [
        "Xtrain=Xtrain.reshape(27449,200,3)\n",
        "Xtest=Xtest.reshape(9146,200,3)"
      ],
      "execution_count": null,
      "outputs": []
    },
    {
      "cell_type": "code",
      "metadata": {
        "id": "mA-3ocfU5lVY"
      },
      "source": [
        "from tensorflow.keras.optimizers import Adam\n",
        "from tensorflow.keras.layers import Conv2D,Flatten,MaxPool2D"
      ],
      "execution_count": null,
      "outputs": []
    },
    {
      "cell_type": "code",
      "metadata": {
        "id": "_gTIl0kw5VDl"
      },
      "source": [
        "Xtrain=Xtrain.reshape(10294,200,3,1)\n",
        "Xtest=Xtest.reshape(3430,200,3,1)\n",
        "model=Sequential()\n",
        "\n",
        "model.add(Conv2D(filters=32,padding='same',activation='relu',kernel_size=(3,3),input_shape=(200,3,1)))\n",
        "\n",
        "model.add(Conv2D(filters=64,padding='same',activation='relu',kernel_size=(3,3)))\n",
        "model.add(Dropout(.2))\n",
        "\n",
        "model.add(Conv2D(filters=64,padding='same',activation='relu',kernel_size=(3,3)))\n",
        "model.add(Conv2D(filters=64,padding='same',activation='relu',kernel_size=(3,3)))\n",
        "model.add(MaxPool2D(padding='valid',pool_size=(2,2)))\n",
        "model.add(Dropout(.2))\n",
        "model.add(Conv2D(filters=128,padding='same',activation='relu',kernel_size=(3,3)))\n",
        "model.add(Conv2D(filters=128,padding='same',activation='relu',kernel_size=(3,3)))\n",
        "model.add(Conv2D(filters=128,padding='same',activation='relu',kernel_size=(3,3)))\n",
        "model.add(Dropout(.2))\n",
        "model.add(Flatten())\n",
        "model.add(Dense(units=1024,activation='relu'))\n",
        "model.add(Dropout(.2))\n",
        "model.add(Dense(units=128,activation='relu'))\n",
        "model.add(Dropout(.2))\n",
        "model.add(Dense(units=,activation='relu'))\n"
      ],
      "execution_count": null,
      "outputs": []
    },
    {
      "cell_type": "code",
      "metadata": {
        "id": "khAUR7-6qiTO",
        "colab": {
          "base_uri": "https://localhost:8080/",
          "height": 411
        },
        "outputId": "9276afe2-863a-4e15-c756-c408e9c7543a"
      },
      "source": [
        "\n",
        "\n",
        "model=Sequential()\n",
        "model.add(LSTM(units=32,activation='relu',input_shape=(200,3),return_sequences=True))\n",
        "model.add(Dropout(.2))\n",
        "model.add(LSTM(units=64,activation='relu'))\n",
        "model.add(Dropout(.2))\n",
        "model.add(Dense(units=6,activation='relu'))\n",
        "model.compile(optimizer=Adam(learning_rate=0.001),loss='binary_crossentropy',metrics=['accuracy'])\n",
        "model.summary()"
      ],
      "execution_count": null,
      "outputs": [
        {
          "output_type": "stream",
          "text": [
            "WARNING:tensorflow:Layer lstm_7 will not use cuDNN kernel since it doesn't meet the cuDNN kernel criteria. It will use generic GPU kernel as fallback when running on GPU\n",
            "WARNING:tensorflow:Layer lstm_8 will not use cuDNN kernel since it doesn't meet the cuDNN kernel criteria. It will use generic GPU kernel as fallback when running on GPU\n",
            "Model: \"sequential_5\"\n",
            "_________________________________________________________________\n",
            "Layer (type)                 Output Shape              Param #   \n",
            "=================================================================\n",
            "lstm_7 (LSTM)                (None, 200, 32)           4608      \n",
            "_________________________________________________________________\n",
            "dropout_4 (Dropout)          (None, 200, 32)           0         \n",
            "_________________________________________________________________\n",
            "lstm_8 (LSTM)                (None, 64)                24832     \n",
            "_________________________________________________________________\n",
            "dropout_5 (Dropout)          (None, 64)                0         \n",
            "_________________________________________________________________\n",
            "dense_5 (Dense)              (None, 6)                 390       \n",
            "=================================================================\n",
            "Total params: 29,830\n",
            "Trainable params: 29,830\n",
            "Non-trainable params: 0\n",
            "_________________________________________________________________\n"
          ],
          "name": "stdout"
        }
      ]
    },
    {
      "cell_type": "code",
      "metadata": {
        "id": "xKqDbv3ouhI3"
      },
      "source": [
        "model.compile(optimizer='adam',loss='sparse_categorical_crossentropy',metrics=['accuracy'])"
      ],
      "execution_count": null,
      "outputs": []
    },
    {
      "cell_type": "code",
      "metadata": {
        "id": "wU5qu8wd8wIg",
        "colab": {
          "base_uri": "https://localhost:8080/",
          "height": 186
        },
        "outputId": "a5f62cc0-8022-4247-aeb8-c1e007b6c98b"
      },
      "source": [
        "history=model.fit(Xtrain,ytrain,epochs=20,validation_data=(Xtest,ytest),batch_size=32)\n"
      ],
      "execution_count": null,
      "outputs": [
        {
          "output_type": "stream",
          "text": [
            "Epoch 1/20\n",
            "858/858 [==============================] - 439s 512ms/step - loss: 0.3795 - accuracy: 0.5157 - val_loss: 0.6381 - val_accuracy: 0.4379\n",
            "Epoch 2/20\n",
            "858/858 [==============================] - 444s 518ms/step - loss: 1.3340 - accuracy: 0.3771 - val_loss: 2.5708 - val_accuracy: 0.0915\n",
            "Epoch 3/20\n",
            "858/858 [==============================] - 444s 517ms/step - loss: 2.5708 - accuracy: 0.0915 - val_loss: 2.5708 - val_accuracy: 0.0915\n",
            "Epoch 4/20\n",
            "497/858 [================>.............] - ETA: 3:01 - loss: 2.5708 - accuracy: 0.0920"
          ],
          "name": "stdout"
        }
      ]
    },
    {
      "cell_type": "code",
      "metadata": {
        "id": "tPlxu2fwSmhK",
        "colab": {
          "base_uri": "https://localhost:8080/",
          "height": 1000
        },
        "outputId": "d2b4b6a5-0f64-4abd-9cbf-132508bb0ce0"
      },
      "source": [
        "h=history.history\n",
        "h"
      ],
      "execution_count": null,
      "outputs": [
        {
          "output_type": "execute_result",
          "data": {
            "text/plain": [
              "{'accuracy': [0.4987371265888214,\n",
              "  0.5626578330993652,\n",
              "  0.5765494704246521,\n",
              "  0.6753448843955994,\n",
              "  0.6737905740737915,\n",
              "  0.6715562343597412,\n",
              "  0.673207700252533,\n",
              "  0.7020594477653503,\n",
              "  0.7599572539329529,\n",
              "  0.7610258460044861,\n",
              "  0.7817174792289734,\n",
              "  0.7840489745140076,\n",
              "  0.7860890030860901,\n",
              "  0.7780260443687439,\n",
              "  0.7797746062278748,\n",
              "  0.7848260998725891,\n",
              "  0.787837564945221,\n",
              "  0.7749174237251282,\n",
              "  0.7868661284446716,\n",
              "  0.7906547784805298],\n",
              " 'loss': [4.885195732116699,\n",
              "  4.134171485900879,\n",
              "  4.406840801239014,\n",
              "  3.6983420848846436,\n",
              "  2.552517890930176,\n",
              "  2.516167163848877,\n",
              "  3.9025964736938477,\n",
              "  3.652719497680664,\n",
              "  3.486544370651245,\n",
              "  3.4653422832489014,\n",
              "  3.3395299911499023,\n",
              "  3.314903974533081,\n",
              "  3.3126039505004883,\n",
              "  3.3748185634613037,\n",
              "  3.3486576080322266,\n",
              "  3.29931640625,\n",
              "  3.299184799194336,\n",
              "  3.40999698638916,\n",
              "  3.3306047916412354,\n",
              "  3.278428316116333],\n",
              " 'val_accuracy': [0.5644314885139465,\n",
              "  0.7037900686264038,\n",
              "  0.6833819150924683,\n",
              "  0.7020407915115356,\n",
              "  0.7215743660926819,\n",
              "  0.7460641264915466,\n",
              "  0.6967930197715759,\n",
              "  0.7373178005218506,\n",
              "  0.7422740459442139,\n",
              "  0.7454810738563538,\n",
              "  0.7416909337043762,\n",
              "  0.7428571581840515,\n",
              "  0.7422740459442139,\n",
              "  0.744023323059082,\n",
              "  0.7154518961906433,\n",
              "  0.743148684501648,\n",
              "  0.7437317967414856,\n",
              "  0.7332361340522766,\n",
              "  0.737609326839447,\n",
              "  0.7457726001739502],\n",
              " 'val_loss': [3.8958635330200195,\n",
              "  3.9340550899505615,\n",
              "  3.761057138442993,\n",
              "  3.6599345207214355,\n",
              "  2.4623563289642334,\n",
              "  3.6538584232330322,\n",
              "  3.7407896518707275,\n",
              "  3.9431393146514893,\n",
              "  3.9697911739349365,\n",
              "  3.900510549545288,\n",
              "  3.8602676391601562,\n",
              "  3.944952964782715,\n",
              "  3.888645648956299,\n",
              "  3.8984813690185547,\n",
              "  3.790034532546997,\n",
              "  3.9200215339660645,\n",
              "  3.94339656829834,\n",
              "  4.001411437988281,\n",
              "  4.021754741668701,\n",
              "  3.976370096206665]}"
            ]
          },
          "metadata": {
            "tags": []
          },
          "execution_count": 127
        }
      ]
    },
    {
      "cell_type": "code",
      "metadata": {
        "id": "glHMYvxgSpTk",
        "colab": {
          "base_uri": "https://localhost:8080/",
          "height": 285
        },
        "outputId": "b3f29a25-b9fe-45b8-8523-7f85f445f82d"
      },
      "source": [
        "plt.plot(h['val_accuracy'])\n",
        "plt.plot(h['accuracy'])"
      ],
      "execution_count": null,
      "outputs": [
        {
          "output_type": "execute_result",
          "data": {
            "text/plain": [
              "[<matplotlib.lines.Line2D at 0x7f393b5dff28>]"
            ]
          },
          "metadata": {
            "tags": []
          },
          "execution_count": 128
        },
        {
          "output_type": "display_data",
          "data": {
            "image/png": "[encoded data removed]",
            "text/plain": [
              "<Figure size 432x288 with 1 Axes>"
            ]
          },
          "metadata": {
            "tags": [],
            "needs_background": "light"
          }
        }
      ]
    },
    {
      "cell_type": "markdown",
      "metadata": {
        "id": "UlXWcaWR-AJe"
      },
      "source": [
        "ytrain"
      ]
    },
    {
      "cell_type": "code",
      "metadata": {
        "id": "9UUMKLpvdWLY",
        "colab": {
          "base_uri": "https://localhost:8080/",
          "height": 93
        },
        "outputId": "a04d155e-ad37-4ab4-d768-d648be0843a1"
      },
      "source": [
        "ypred=model.predict_classes(Xtest)"
      ],
      "execution_count": null,
      "outputs": [
        {
          "output_type": "stream",
          "text": [
            "WARNING:tensorflow:From <ipython-input-129-03f1feecb998>:1: Sequential.predict_classes (from tensorflow.python.keras.engine.sequential) is deprecated and will be removed after 2021-01-01.\n",
            "Instructions for updating:\n",
            "Please use instead:* `np.argmax(model.predict(x), axis=-1)`,   if your model does multi-class classification   (e.g. if it uses a `softmax` last-layer activation).* `(model.predict(x) > 0.5).astype(\"int32\")`,   if your model does binary classification   (e.g. if it uses a `sigmoid` last-layer activation).\n"
          ],
          "name": "stdout"
        }
      ]
    },
    {
      "cell_type": "code",
      "metadata": {
        "id": "D_v7gOSYdZY1",
        "colab": {
          "base_uri": "https://localhost:8080/",
          "height": 36
        },
        "outputId": "a9ad2042-8d71-41c4-c09b-0b030597ba6b"
      },
      "source": [
        "ypred"
      ],
      "execution_count": null,
      "outputs": [
        {
          "output_type": "execute_result",
          "data": {
            "text/plain": [
              "array([5, 5, 5, ..., 3, 3, 3])"
            ]
          },
          "metadata": {
            "tags": []
          },
          "execution_count": 130
        }
      ]
    },
    {
      "cell_type": "code",
      "metadata": {
        "id": "T58dthZhHtge",
        "colab": {
          "base_uri": "https://localhost:8080/",
          "height": 36
        },
        "outputId": "30af7d24-76d1-45ce-a07e-e6569dfdd818"
      },
      "source": [
        "yts"
      ],
      "execution_count": null,
      "outputs": [
        {
          "output_type": "execute_result",
          "data": {
            "text/plain": [
              "array([5, 5, 5, ..., 3, 3, 3])"
            ]
          },
          "metadata": {
            "tags": []
          },
          "execution_count": 131
        }
      ]
    },
    {
      "cell_type": "code",
      "metadata": {
        "id": "HYS5ZrZNHzgF"
      },
      "source": [
        "from sklearn.metrics import confusion_matrix\n",
        "from mlxtend.plotting import plot_confusion_matrix"
      ],
      "execution_count": null,
      "outputs": []
    },
    {
      "cell_type": "code",
      "metadata": {
        "id": "S9BoqyOCH5NG",
        "colab": {
          "base_uri": "https://localhost:8080/",
          "height": 316
        },
        "outputId": "dc907675-a823-4967-ecb0-0ca5ff1831ec"
      },
      "source": [
        "cm=confusion_matrix(yts,ypred)\n",
        "plot_confusion_matrix(cm,colorbar=True)"
      ],
      "execution_count": null,
      "outputs": [
        {
          "output_type": "execute_result",
          "data": {
            "text/plain": [
              "(<Figure size 432x288 with 2 Axes>,\n",
              " <matplotlib.axes._subplots.AxesSubplot at 0x7f393b4aad68>)"
            ]
          },
          "metadata": {
            "tags": []
          },
          "execution_count": 133
        },
        {
          "output_type": "display_data",
          "data": {
            "image/png": "[encoded data removed]",
            "text/plain": [
              "<Figure size 432x288 with 2 Axes>"
            ]
          },
          "metadata": {
            "tags": [],
            "needs_background": "light"
          }
        }
      ]
    },
    {
      "cell_type": "code",
      "metadata": {
        "id": "Kf86KRUcIJHp",
        "colab": {
          "base_uri": "https://localhost:8080/",
          "height": 53
        },
        "outputId": "ff8ae3bc-e887-4c97-a94a-d34ebd369f70"
      },
      "source": [
        "le.classes_"
      ],
      "execution_count": null,
      "outputs": [
        {
          "output_type": "execute_result",
          "data": {
            "text/plain": [
              "array(['Downstairs', 'Jogging', 'Sitting', 'Standing', 'Upstairs',\n",
              "       'Walking'], dtype=object)"
            ]
          },
          "metadata": {
            "tags": []
          },
          "execution_count": 144
        }
      ]
    },
    {
      "cell_type": "code",
      "metadata": {
        "id": "zsnBQFiNgoaB"
      },
      "source": [
        "model.save('Human_Activity_Model96.h5')"
      ],
      "execution_count": null,
      "outputs": []
    }
  ]
}